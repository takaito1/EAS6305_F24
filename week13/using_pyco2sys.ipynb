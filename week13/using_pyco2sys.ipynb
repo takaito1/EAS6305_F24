{
  "nbformat": 4,
  "nbformat_minor": 0,
  "metadata": {
    "colab": {
      "provenance": [],
      "authorship_tag": "ABX9TyP2rOfRKBOR/vt9W+FXT0MG",
      "include_colab_link": true
    },
    "kernelspec": {
      "name": "python3",
      "display_name": "Python 3"
    },
    "language_info": {
      "name": "python"
    }
  },
  "cells": [
    {
      "cell_type": "markdown",
      "metadata": {
        "id": "view-in-github",
        "colab_type": "text"
      },
      "source": [
        "<a href=\"https://colab.research.google.com/github/takaito1/EAS6305_F24/blob/main/week13/using_pyco2sys.ipynb\" target=\"_parent\"><img src=\"https://colab.research.google.com/assets/colab-badge.svg\" alt=\"Open In Colab\"/></a>"
      ]
    },
    {
      "cell_type": "markdown",
      "source": [
        "# Carbonate chemistry calculations"
      ],
      "metadata": {
        "id": "jJNpAWHubuST"
      }
    },
    {
      "cell_type": "code",
      "execution_count": 1,
      "metadata": {
        "colab": {
          "base_uri": "https://localhost:8080/"
        },
        "id": "k8YP9a67brsq",
        "outputId": "05bcbcfe-a151-44fd-8df7-76a60c7acd13"
      },
      "outputs": [
        {
          "output_type": "stream",
          "name": "stdout",
          "text": [
            "Requirement already satisfied: PyCO2SYS in /usr/local/lib/python3.10/dist-packages (1.8.3.3)\n",
            "Requirement already satisfied: autograd in /usr/local/lib/python3.10/dist-packages (from PyCO2SYS) (1.7.0)\n",
            "Requirement already satisfied: numpy in /usr/local/lib/python3.10/dist-packages (from PyCO2SYS) (1.26.4)\n"
          ]
        }
      ],
      "source": [
        "! pip install PyCO2SYS"
      ]
    },
    {
      "cell_type": "code",
      "source": [
        "import numpy as np\n",
        "import matplotlib.pyplot as plt\n",
        "import PyCO2SYS as pyco2"
      ],
      "metadata": {
        "id": "jzgl0O2lb0LH"
      },
      "execution_count": 2,
      "outputs": []
    },
    {
      "cell_type": "code",
      "source": [
        "# DIC = 2100 micro-mol/kg\n",
        "# Alk = 2300 micro-mol/kg\n",
        "# temperature = 15 deg C\n",
        "# salinity = 35 psu\n",
        "DIC = 2100\n",
        "Alk = 2300\n",
        "T = 15\n",
        "S = 35"
      ],
      "metadata": {
        "id": "s8GXtxXDb8aX"
      },
      "execution_count": 3,
      "outputs": []
    },
    {
      "cell_type": "code",
      "source": [
        "# solve carbonate chemistry\n",
        "results = pyco2.sys(par1=DIC, par2=Alk, par1_type=2, par2_type=1, temperature=T, salinity=S)"
      ],
      "metadata": {
        "id": "jvZV8L34cNky"
      },
      "execution_count": 4,
      "outputs": []
    },
    {
      "cell_type": "code",
      "source": [
        "# carbonate chemistry species\n",
        "CO2=results['CO2']\n",
        "HCO3=results['HCO3']\n",
        "CO3=results['CO3']\n",
        "print(f'CO2, HCO3, CO3 = {CO2:.4g}, {HCO3:.4g}, {CO3:.4g}')"
      ],
      "metadata": {
        "colab": {
          "base_uri": "https://localhost:8080/"
        },
        "id": "sseVeSzldN1w",
        "outputId": "29296568-c7d9-4fc6-8359-769744bf0e20"
      },
      "execution_count": 5,
      "outputs": [
        {
          "output_type": "stream",
          "name": "stdout",
          "text": [
            "CO2, HCO3, CO3 = 16.6, 1937, 146.3\n"
          ]
        }
      ]
    },
    {
      "cell_type": "code",
      "source": [
        "# pH\n",
        "pH = results['pH_total']\n",
        "H = 10**(-pH)\n",
        "print(f'pH={pH:.3g}, H={H:.4g}')"
      ],
      "metadata": {
        "colab": {
          "base_uri": "https://localhost:8080/"
        },
        "id": "Nww0rY1XdO6o",
        "outputId": "c8c2d854-dc7d-4d37-ba4c-8c9654d2c0a6"
      },
      "execution_count": 6,
      "outputs": [
        {
          "output_type": "stream",
          "name": "stdout",
          "text": [
            "pH=8.01, H=9.838e-09\n"
          ]
        }
      ]
    },
    {
      "cell_type": "code",
      "source": [
        "pCO2=results['pCO2']\n",
        "print(f'pCO2={pCO2:.3g}')"
      ],
      "metadata": {
        "colab": {
          "base_uri": "https://localhost:8080/"
        },
        "id": "OpbQ1yv3eXde",
        "outputId": "b6a02ce2-c5cb-4c82-a306-e2a801ad2093"
      },
      "execution_count": 7,
      "outputs": [
        {
          "output_type": "stream",
          "name": "stdout",
          "text": [
            "pCO2=445\n"
          ]
        }
      ]
    },
    {
      "cell_type": "code",
      "source": [],
      "metadata": {
        "id": "mfj92EyJes1r"
      },
      "execution_count": 7,
      "outputs": []
    }
  ]
}