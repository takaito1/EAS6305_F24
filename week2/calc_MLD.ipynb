{
  "cells": [
    {
      "cell_type": "markdown",
      "metadata": {
        "id": "view-in-github",
        "colab_type": "text"
      },
      "source": [
        "<a href=\"https://colab.research.google.com/github/takaito1/EAS6305_F24/blob/main/week2/calc_MLD.ipynb\" target=\"_parent\"><img src=\"https://colab.research.google.com/assets/colab-badge.svg\" alt=\"Open In Colab\"/></a>"
      ]
    },
    {
      "cell_type": "markdown",
      "id": "92b70e9e",
      "metadata": {
        "id": "92b70e9e"
      },
      "source": [
        "# Mixed layer depth\n",
        "\n",
        "    - The goal of this homework is to use the CTD profile data to calculate sigma-theta and mixed layer depth (MLD)\n",
        "    - Use the sigma-theta profile to compute the MLD"
      ]
    },
    {
      "cell_type": "code",
      "source": [
        "! pip install gsw"
      ],
      "metadata": {
        "id": "8oAlrc_F_cmV"
      },
      "id": "8oAlrc_F_cmV",
      "execution_count": null,
      "outputs": []
    },
    {
      "cell_type": "code",
      "execution_count": null,
      "id": "8339fa0b",
      "metadata": {
        "id": "8339fa0b"
      },
      "outputs": [],
      "source": [
        "# import libraries\n",
        "import numpy as np\n",
        "import matplotlib.pyplot as plt\n",
        "import gsw\n",
        "import pandas as pd"
      ]
    },
    {
      "cell_type": "markdown",
      "id": "19e5f8de-d79a-4e17-8e70-cf71867d6973",
      "metadata": {
        "id": "19e5f8de-d79a-4e17-8e70-cf71867d6973"
      },
      "source": [
        "### (a) Read BATS data and calculate sigma-theta"
      ]
    },
    {
      "cell_type": "code",
      "execution_count": null,
      "id": "1f4a00ad-d46b-45ff-b184-718752a8c894",
      "metadata": {
        "id": "1f4a00ad-d46b-45ff-b184-718752a8c894"
      },
      "outputs": [],
      "source": [
        "# Step 1 download data from BATS\n",
        "df = pd.read_csv('https://datadocs.bco-dmo.org/file/m7zA3onuPG01JD/3918_v10_bats_ctd_2020-2024.csv')\n",
        "df.head() # display the first 5 rows"
      ]
    },
    {
      "cell_type": "code",
      "source": [
        "# define headers first (since the excel sheet doesn't have one)\n",
        "headers = df.columns\n",
        "print(headers)"
      ],
      "metadata": {
        "id": "x6cjqQV_QF2M"
      },
      "id": "x6cjqQV_QF2M",
      "execution_count": null,
      "outputs": []
    },
    {
      "cell_type": "code",
      "execution_count": null,
      "id": "e261503b",
      "metadata": {
        "id": "e261503b"
      },
      "outputs": [],
      "source": [
        "# extract a specific parameter from specific cast / cruise\n",
        "new_df = df.loc[(df.Cruise_num==10370)&(df.Cast==1)]\n",
        "T = new_df['Temperature'].to_numpy()\n",
        "S = new_df['Salinity'].to_numpy()\n",
        "P = new_df['Pressure'].to_numpy()\n",
        "lon = new_df['Longitude_deployed'].to_numpy()\n",
        "lat = new_df['Latitude_deployed'].to_numpy()"
      ]
    },
    {
      "cell_type": "code",
      "execution_count": null,
      "id": "122507c1",
      "metadata": {
        "id": "122507c1"
      },
      "outputs": [],
      "source": [
        "# Step 2 calculate sigma-theta\n",
        "sa = gsw.SA_from_SP(S,P,lon,lat) # calculate absolute salinity\n",
        "ct = gsw.CT_from_t(sa,T,P) # calculate conservative temperature\n",
        "#\n",
        "sigma0 = gsw.sigma0(sa,ct) # calculate sigma-theta"
      ]
    },
    {
      "cell_type": "code",
      "execution_count": null,
      "id": "0603c273-73e8-41fe-8769-e2f170d24497",
      "metadata": {
        "id": "0603c273-73e8-41fe-8769-e2f170d24497"
      },
      "outputs": [],
      "source": [
        "# plot\n",
        "fig=plt.figure(figsize=(10,5))\n",
        "ax=fig.subplots(1,3)\n",
        "plt.subplots_adjust(wspace=0.5)\n",
        "#\n",
        "ax[2].plot(sigma0,P,label='sigma-theta')\n",
        "ax[2].set_xlabel('sigma-theta, kg/m3')\n",
        "ax[2].set_ylabel('pressure, dbar')\n",
        "ax[2].set_ylim(1200,0)\n",
        "#\n",
        "ax[0].plot(sa,P,label='SA')\n",
        "ax[0].set_xlabel('absolute salinity, g/kg')\n",
        "ax[0].set_ylabel('pressure, dbar')\n",
        "ax[0].set_ylim(1200,0)\n",
        "#\n",
        "ax[1].plot(ct,P,label='CT')\n",
        "ax[1].set_xlabel('conservative temperature, deg C')\n",
        "ax[1].set_ylabel('pressure, dbar')\n",
        "ax[1].set_ylim(1200,0)\n",
        "plt.show()"
      ]
    },
    {
      "cell_type": "markdown",
      "id": "db03525b-189c-4f0f-91a3-6d0fe6e61295",
      "metadata": {
        "id": "db03525b-189c-4f0f-91a3-6d0fe6e61295"
      },
      "source": [
        "### (b) Determine mixed layer depth using sigma-theta profile"
      ]
    },
    {
      "cell_type": "code",
      "execution_count": null,
      "id": "6a58d132-1b59-4918-be8d-185eea204c22",
      "metadata": {
        "id": "6a58d132-1b59-4918-be8d-185eea204c22"
      },
      "outputs": [],
      "source": [
        "# First calculate the surface value\n",
        "sig0_surf = min(sigma0)\n",
        "print(f'Surface sigma-theta = {np.round(sig0_surf,2)} kg/m3')"
      ]
    },
    {
      "cell_type": "code",
      "execution_count": null,
      "id": "7814a6dd-aafc-4c64-9b92-f532ffffc844",
      "metadata": {
        "id": "7814a6dd-aafc-4c64-9b92-f532ffffc844"
      },
      "outputs": [],
      "source": [
        "# Start the loop\n",
        "#\n",
        "###### define density threshold\n",
        "sig0_crit =\n",
        "######\n",
        "\n",
        "######\n",
        "# mixed layer definition algorithm\n",
        "for n,pres in enumerate(P):\n",
        "    offset =\n",
        "    if offset < sig0_crit:\n",
        "        mld = P[n]\n",
        "######\n",
        "\n",
        "print(f'Mixed layer depth is {np.round(mld,2)} dbar level')"
      ]
    },
    {
      "cell_type": "code",
      "execution_count": null,
      "id": "ce3b3511-4dc7-4192-9e93-364c90c86687",
      "metadata": {
        "id": "ce3b3511-4dc7-4192-9e93-364c90c86687"
      },
      "outputs": [],
      "source": [
        "# plot\n",
        "fig=plt.figure(figsize=(10,5))\n",
        "ax=fig.subplots(1,3)\n",
        "plt.subplots_adjust(wspace=0.5)\n",
        "#\n",
        "ax[2].plot(sigma0,P,label='sigma-theta')\n",
        "ax[2].plot([min(sigma0), max(sigma0)],[mld, mld],'r',label='mixed layder depth')\n",
        "ax[2].set_xlabel('sigma-theta, kg/m3')\n",
        "ax[2].set_ylabel('pressure, dbar')\n",
        "ax[2].set_ylim(200,0)\n",
        "#\n",
        "ax[0].plot(sa,P,label='SA')\n",
        "ax[0].plot([min(sa), max(sa)],[mld, mld],'r',label='mixed layder depth')\n",
        "ax[0].set_xlabel('absolute salinity, g/kg')\n",
        "ax[0].set_ylabel('pressure, dbar')\n",
        "ax[0].set_ylim(200,0)\n",
        "#\n",
        "ax[1].plot(ct,P,label='CT')\n",
        "ax[1].plot([min(ct), max(ct)],[mld, mld],'r',label='mixed layder depth')\n",
        "ax[1].set_xlabel('conservative temperature, deg C')\n",
        "ax[1].set_ylabel('pressure, dbar')\n",
        "ax[1].set_ylim(200,0)\n",
        "plt.show()\n"
      ]
    },
    {
      "cell_type": "code",
      "execution_count": null,
      "id": "53184a64-16b6-4404-9c98-c6bb4ef37e66",
      "metadata": {
        "id": "53184a64-16b6-4404-9c98-c6bb4ef37e66"
      },
      "outputs": [],
      "source": []
    }
  ],
  "metadata": {
    "kernelspec": {
      "display_name": "PCO_F2023",
      "language": "python",
      "name": "pco_f2023"
    },
    "language_info": {
      "codemirror_mode": {
        "name": "ipython",
        "version": 3
      },
      "file_extension": ".py",
      "mimetype": "text/x-python",
      "name": "python",
      "nbconvert_exporter": "python",
      "pygments_lexer": "ipython3",
      "version": "3.9.17"
    },
    "colab": {
      "provenance": [],
      "include_colab_link": true
    }
  },
  "nbformat": 4,
  "nbformat_minor": 5
}